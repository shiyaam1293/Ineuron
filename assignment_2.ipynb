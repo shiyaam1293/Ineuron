{
 "cells": [
  {
   "cell_type": "code",
   "execution_count": 2,
   "metadata": {},
   "outputs": [
    {
     "name": "stdout",
     "output_type": "stream",
     "text": [
      "enter the kilometre10\n",
      "miles 6.2137119223733395\n"
     ]
    }
   ],
   "source": [
    "#Write a Python program to convert kilometers to miles\n",
    "a=float(input('enter the kilometre'))\n",
    "\n",
    "m=float((a/1.609344))\n",
    "\n",
    "print('miles',m)"
   ]
  },
  {
   "cell_type": "code",
   "execution_count": 4,
   "metadata": {},
   "outputs": [
    {
     "name": "stdout",
     "output_type": "stream",
     "text": [
      "enter the celsius36\n",
      "Fahrenheit equiavalent to celsius is 96.8\n"
     ]
    }
   ],
   "source": [
    "#Write a Python program to convert Celsius to Fahrenheit\n",
    "Celsius = float(input('enter the celsius'))\n",
    "\n",
    "Fahrenheit = float((Celsius * 1.8) + 32.0)\n",
    "\n",
    "print('Fahrenheit equiavalent to celsius is',Fahrenheit)"
   ]
  },
  {
   "cell_type": "code",
   "execution_count": 6,
   "metadata": {},
   "outputs": [
    {
     "name": "stdout",
     "output_type": "stream",
     "text": [
      "Enter year: 2010\n",
      "Enter month: 3\n",
      "     March 2010\n",
      "Mo Tu We Th Fr Sa Su\n",
      " 1  2  3  4  5  6  7\n",
      " 8  9 10 11 12 13 14\n",
      "15 16 17 18 19 20 21\n",
      "22 23 24 25 26 27 28\n",
      "29 30 31\n",
      "\n"
     ]
    }
   ],
   "source": [
    "#Write a Python program to display calendar\n",
    "import calendar  \n",
    "# Enter the month and year  \n",
    "year = int(input(\"Enter year: \"))  \n",
    "month = int(input(\"Enter month: \"))  \n",
    "  \n",
    "# display the calendar  \n",
    "print(calendar.month(year,month))  "
   ]
  },
  {
   "cell_type": "code",
   "execution_count": 15,
   "metadata": {},
   "outputs": [
    {
     "name": "stdout",
     "output_type": "stream",
     "text": [
      "enter the value of coefficient a1\n",
      "enter the value of coefficeint b4\n",
      "enter the value of coefficient c16\n",
      "The solution are (-2-3.4641016151377544j) and (-1.9999999999999998+3.4641016151377544j)\n"
     ]
    }
   ],
   "source": [
    "\n",
    "'''The standard form of a quadratic equation is:\n",
    "\n",
    "ax2 + bx + c = 0, where\n",
    "a, b and c are real numbers and\n",
    "a ≠ 0\n",
    "\n",
    "The solutions of this quadratic equation is given by:\n",
    "\n",
    "(-b ± (b ** 2 - 4 * a * c) ** 0.5) / 2 * a\n",
    "Source Code'''\n",
    "# Solve the quadratic equation ax**2 + bx + c = 0\n",
    "\n",
    "\n",
    "\n",
    "a = int(input('enter the value of coefficient a'))\n",
    "b = int(input('enter the value of coefficeint b'))\n",
    "c = int(input('enter the value of coefficient c'))\n",
    "\n",
    "# calculate the discriminant\n",
    "d = pow(b,2) - (4*a*c)\n",
    "\n",
    "# find two solutions\n",
    "sol1 = (-b-pow(d,0.5))/(2*a)\n",
    "sol2 = (-b+pow(d,0.5))/(2*a)\n",
    "\n",
    "print('The solution are {0} and {1}'.format(sol1,sol2))"
   ]
  },
  {
   "cell_type": "code",
   "execution_count": 16,
   "metadata": {},
   "outputs": [
    {
     "name": "stdout",
     "output_type": "stream",
     "text": [
      "After Swapping: x = 5  y = 10\n"
     ]
    }
   ],
   "source": [
    "#Write a Python program to swap two variables without temp variable\n",
    "x = 10\n",
    "y = 5\n",
    " \n",
    "# Code to swap 'x' and 'y'\n",
    " \n",
    "# x now becomes 15\n",
    "sum = x + y\n",
    " \n",
    "# y becomes 10\n",
    "y = sum - y\n",
    " \n",
    "# x becomes 5\n",
    "x = sum - y\n",
    "print(\"After Swapping: x =\", x, \" y =\", y)"
   ]
  },
  {
   "cell_type": "code",
   "execution_count": null,
   "metadata": {},
   "outputs": [],
   "source": []
  }
 ],
 "metadata": {
  "kernelspec": {
   "display_name": "Python 3",
   "language": "python",
   "name": "python3"
  },
  "language_info": {
   "codemirror_mode": {
    "name": "ipython",
    "version": 3
   },
   "file_extension": ".py",
   "mimetype": "text/x-python",
   "name": "python",
   "nbconvert_exporter": "python",
   "pygments_lexer": "ipython3",
   "version": "3.7.4"
  }
 },
 "nbformat": 4,
 "nbformat_minor": 2
}
