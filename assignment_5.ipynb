{
 "cells": [
  {
   "cell_type": "code",
   "execution_count": 1,
   "metadata": {},
   "outputs": [
    {
     "name": "stdout",
     "output_type": "stream",
     "text": [
      "enter the first number2\n",
      "enter the second number3\n",
      "lcm of two numbers 6\n"
     ]
    }
   ],
   "source": [
    "#Write a Python Program to Find LCM?\n",
    "int1=int(input('enter the first number'))\n",
    "int2=int(input('enter the second number'))\n",
    "m=max(int1,int2)\n",
    "i = m\n",
    "while(True):\n",
    "    if(i%int1==0 and i%int2==0):\n",
    "        lcm = i\n",
    "        print('lcm of two numbers',lcm)\n",
    "        break\n",
    "    i=i+m\n",
    "\n",
    "\n",
    "    "
   ]
  },
  {
   "cell_type": "code",
   "execution_count": 2,
   "metadata": {},
   "outputs": [
    {
     "name": "stdout",
     "output_type": "stream",
     "text": [
      "enter the first number2\n",
      "enter the second number8\n",
      "hcf of two numbers 2\n"
     ]
    }
   ],
   "source": [
    "#Write a Python Program to Find HCF?\n",
    "\n",
    "int1=int(input('enter the first number'))\n",
    "int2=int(input('enter the second number'))\n",
    "m=min(int1,int2)\n",
    "m1=max(int1,int2)\n",
    "\n",
    "\n",
    "if(int1%m==0 and int2%m==0):\n",
    "    hcf=m\n",
    "else:\n",
    "    hcf=1\n",
    "print('hcf of two numbers',hcf)"
   ]
  },
  {
   "cell_type": "code",
   "execution_count": 7,
   "metadata": {},
   "outputs": [
    {
     "name": "stdout",
     "output_type": "stream",
     "text": [
      "enter the decimal number16\n",
      "binary:\n",
      "10000\n",
      "octal:\n",
      "20\n",
      "hexadecimal:\n",
      "10"
     ]
    }
   ],
   "source": [
    "#Write a Python Program to Convert Decimal to Binary, Octal and Hexadecimal?\n",
    "int1=int(input('enter the decimal number'))\n",
    "n1,n2,n3=int1,int1,int1\n",
    "list1=[]\n",
    "list2=[]\n",
    "list3=[]\n",
    "#binary\n",
    "#to convert to binary get the remainder of the number divided by 2 on looping till the quotient of number divisible by 2 is zero\n",
    "while(n1>0):\n",
    "    r1=n1%2 \n",
    "    list1.append(r1)\n",
    "    n1=n1//2\n",
    "#to convert to octal get the remainder of the number divided by 8 on looping till the quotient of number divisible by 8 is zero\n",
    "while(n2>0):\n",
    "    r2=n2%8 \n",
    "    list2.append(r2)\n",
    "    n2=n2//8\n",
    "#to convert to hexadecimal get the remainder of the number divided by 16 on looping till the quotient of number divisible by 16 is zero\n",
    "while(n3>0):\n",
    "    r3=n3%16 \n",
    "    list3.append(r3)\n",
    "    n3=n3//16\n",
    "#make the remainder in reverse to get binary\n",
    "print('binary:')\n",
    "list1.reverse()\n",
    "for i in list1:\n",
    "    print(i,end='')\n",
    "#make the remainder in reverse to get octal\n",
    "print('\\noctal:')\n",
    "list2.reverse()\n",
    "for i in list2:\n",
    "    print(i,end='')\n",
    "#make the remainder in reverse to get hexadecimal\n",
    "print('\\nhexadecimal:')\n",
    "list3.reverse()\n",
    "for i in list3:\n",
    "    print(i,end='')\n",
    "    "
   ]
  },
  {
   "cell_type": "code",
   "execution_count": 10,
   "metadata": {},
   "outputs": [
    {
     "name": "stdout",
     "output_type": "stream",
     "text": [
      "enter a charactera\n",
      "The ASCII value of 'a' is 97\n"
     ]
    }
   ],
   "source": [
    "#Write a Python Program To Find ASCII value of a character?\n",
    "c = str(input('enter a character'))\n",
    "print(\"The ASCII value of '{}' is {}\".format(c,ord(c)) )"
   ]
  },
  {
   "cell_type": "code",
   "execution_count": 15,
   "metadata": {
    "scrolled": true
   },
   "outputs": [
    {
     "name": "stdout",
     "output_type": "stream",
     "text": [
      "enter two numbers:\n",
      "enter first number6\n",
      "enter second number2\n",
      "select the operation\n",
      "1.addition\n",
      "2.subtraction\n",
      "3.Multiplication\n",
      "4.division\n",
      "enter one of the above number4\n",
      "the result is  3\n"
     ]
    }
   ],
   "source": [
    "#Write a Python Program to Make a Simple Calculator with 4 basic mathematical operations?\n",
    "print('enter two numbers:')\n",
    "n1=int(input('enter first number'))\n",
    "n2=int(input('enter second number'))\n",
    "\n",
    "print('select the operation')\n",
    "print('1.addition')\n",
    "print('2.subtraction')\n",
    "print('3.Multiplication')\n",
    "print('4.division')\n",
    "c=int(input('enter one of the above number'))\n",
    "#addition\n",
    "if c==1:\n",
    "    n3=n1+n2\n",
    "#subtraction\n",
    "elif c==2:\n",
    "    n3=n1-n2\n",
    "#multiplication\n",
    "elif c==3:\n",
    "    n3=n1*n2\n",
    "#division\n",
    "else:\n",
    "    n3=n1//n2\n",
    "\n",
    "print('the result is ',n3)"
   ]
  }
 ],
 "metadata": {
  "kernelspec": {
   "display_name": "Python 3",
   "language": "python",
   "name": "python3"
  },
  "language_info": {
   "codemirror_mode": {
    "name": "ipython",
    "version": 3
   },
   "file_extension": ".py",
   "mimetype": "text/x-python",
   "name": "python",
   "nbconvert_exporter": "python",
   "pygments_lexer": "ipython3",
   "version": "3.7.4"
  }
 },
 "nbformat": 4,
 "nbformat_minor": 2
}
