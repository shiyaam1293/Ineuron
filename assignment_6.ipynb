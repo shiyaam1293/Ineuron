{
 "cells": [
  {
   "cell_type": "code",
   "execution_count": 9,
   "metadata": {},
   "outputs": [
    {
     "name": "stdout",
     "output_type": "stream",
     "text": [
      "enter the value of n10\n",
      "fibonnaci series:\n",
      "0\n",
      "1\n",
      "1\n",
      "2\n",
      "3\n",
      "5\n",
      "8\n",
      "13\n",
      "21\n",
      "34\n"
     ]
    }
   ],
   "source": [
    "#Write a Python Program to Display Fibonacci Sequence Using Recursion?\n",
    "\n",
    "def seq(n):\n",
    "    if n<=1:\n",
    "        return n\n",
    "    else:\n",
    "        return(seq(n-1)+seq(n-2))\n",
    "\n",
    "n=int(input('enter the value of n'))\n",
    "print('fibonnaci series:')\n",
    "for i in range(n):\n",
    "    print(seq(i))\n"
   ]
  },
  {
   "cell_type": "code",
   "execution_count": 22,
   "metadata": {},
   "outputs": [
    {
     "name": "stdout",
     "output_type": "stream",
     "text": [
      "enter the value of n10\n",
      "factorial:\n",
      "3628800\n"
     ]
    }
   ],
   "source": [
    "#Write a Python Program to Find Factorial of Number Using Recursion?\n",
    "def fac(n):\n",
    "    if n==1:\n",
    "        return n\n",
    "    else:\n",
    "        return(n*fac(n-1))\n",
    "        #temp=1\n",
    "        #for i in range(1,n+1):\n",
    "            #temp=temp*i\n",
    "        #return temp\n",
    "    \n",
    "n=int(input('enter the value of n'))\n",
    "print('factorial:')\n",
    "\n",
    "print(fac(n))"
   ]
  },
  {
   "cell_type": "code",
   "execution_count": 23,
   "metadata": {},
   "outputs": [
    {
     "name": "stdout",
     "output_type": "stream",
     "text": [
      "enter the height30\n",
      "enter the weight40\n",
      "starvation\n"
     ]
    }
   ],
   "source": [
    "#Write a Python Program to calculate your Body Mass Index?\n",
    "'''Starvation\t< 15\n",
    "Anorexic\t15.1 to 17.5\n",
    "Underweight\t17.6 to 18.5\n",
    "Ideal\t18.6 to 24.9\n",
    "Overweight\t25 to 25.9\n",
    "Obese\t30 to 30.9\n",
    "Morbidly Obese\t>= 40'''\n",
    "\n",
    "def bmi(r):\n",
    "    if r<15:\n",
    "        print('starvation')\n",
    "    elif r>15 and r<=17.5:\n",
    "        print('Anorexic')\n",
    "    elif r>17.5 and r<=18.5:\n",
    "        print('underweight')\n",
    "    elif r>18.5 and r<=24.9:\n",
    "        print('Ideal')\n",
    "    elif r>24.9 and r<=25.9:\n",
    "        print('Overweight')\n",
    "    elif r>=30 and r<=30.9:\n",
    "        print('Obese')\n",
    "    elif r>=40:\n",
    "        print('Morbidly obese')\n",
    "h=int(input('enter the height in metres'))\n",
    "w=int(input('enter the weight in kilograms'))\n",
    "\n",
    "r=w/(h*h)\n",
    "\n",
    "bmi(r)"
   ]
  },
  {
   "cell_type": "code",
   "execution_count": 26,
   "metadata": {},
   "outputs": [
    {
     "name": "stdout",
     "output_type": "stream",
     "text": [
      "enter any number10\n"
     ]
    },
    {
     "data": {
      "text/plain": [
       "2.302585092994046"
      ]
     },
     "execution_count": 26,
     "metadata": {},
     "output_type": "execute_result"
    }
   ],
   "source": [
    "#Write a Python Program to calculate the natural logarithm of any number?\n",
    "import math\n",
    "e=float(input('enter any number'))\n",
    "math.log(e)\n"
   ]
  },
  {
   "cell_type": "code",
   "execution_count": 28,
   "metadata": {},
   "outputs": [
    {
     "name": "stdout",
     "output_type": "stream",
     "text": [
      "enter the value of n3\n",
      "36\n"
     ]
    }
   ],
   "source": [
    "#Write a Python Program for cube sum of first n natural numbers?\n",
    "def cube(n):\n",
    "    temp=0\n",
    "    for i in range(1,n+1):\n",
    "        temp=temp+(i*i*i)\n",
    "    return temp\n",
    "\n",
    "n=int(input('enter the value of n'))\n",
    "print(cube(n))"
   ]
  },
  {
   "cell_type": "code",
   "execution_count": null,
   "metadata": {},
   "outputs": [],
   "source": []
  }
 ],
 "metadata": {
  "kernelspec": {
   "display_name": "Python 3",
   "language": "python",
   "name": "python3"
  },
  "language_info": {
   "codemirror_mode": {
    "name": "ipython",
    "version": 3
   },
   "file_extension": ".py",
   "mimetype": "text/x-python",
   "name": "python",
   "nbconvert_exporter": "python",
   "pygments_lexer": "ipython3",
   "version": "3.7.4"
  }
 },
 "nbformat": 4,
 "nbformat_minor": 2
}
