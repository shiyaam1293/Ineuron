{
 "cells": [
  {
   "cell_type": "code",
   "execution_count": 1,
   "metadata": {},
   "outputs": [
    {
     "name": "stdout",
     "output_type": "stream",
     "text": [
      "enter the number3\n",
      "factorial 6\n"
     ]
    }
   ],
   "source": [
    "#Write a Python Program to Find the Factorial of a Number?\n",
    "\n",
    "n= int(input('enter the number'))\n",
    "temp=1\n",
    "\n",
    "for i in range(1,n+1):\n",
    "     temp=temp*i\n",
    "print('factorial',temp)\n",
    "    "
   ]
  },
  {
   "cell_type": "code",
   "execution_count": 2,
   "metadata": {},
   "outputs": [
    {
     "name": "stdout",
     "output_type": "stream",
     "text": [
      "enter the number4\n",
      "1 * 4 = 4\n",
      "2 * 4 = 8\n",
      "3 * 4 = 12\n",
      "4 * 4 = 16\n",
      "5 * 4 = 20\n",
      "6 * 4 = 24\n",
      "7 * 4 = 28\n",
      "8 * 4 = 32\n",
      "9 * 4 = 36\n",
      "10 * 4 = 40\n"
     ]
    }
   ],
   "source": [
    "#Write a Python Program to Display the multiplication Table?\n",
    "n= int(input('enter the number'))\n",
    "temp=1\n",
    "\n",
    "for i in range(1,11):\n",
    "    print(i, '*' ,n,'=',n*i)"
   ]
  },
  {
   "cell_type": "code",
   "execution_count": 3,
   "metadata": {},
   "outputs": [
    {
     "name": "stdout",
     "output_type": "stream",
     "text": [
      "enter the number5\n",
      "fibonnaci series:\n",
      "0\n",
      "1\n",
      "1\n",
      "2\n",
      "3\n"
     ]
    }
   ],
   "source": [
    "#Write a Python Program to Print the Fibonacci sequence?\n",
    "n= int(input('enter the number'))\n",
    "n1=0\n",
    "n2=1\n",
    "count=0\n",
    "if n ==1:\n",
    "    print('fibonnaci series upto',n,':')\n",
    "    print(n1)\n",
    "else:\n",
    "    print('fibonnaci series:')\n",
    "    while count < n:\n",
    "          print(n1)\n",
    "          n3=n1+n2\n",
    "          n1=n2\n",
    "          n2=n3\n",
    "          count=count+1\n",
    "          \n",
    "    "
   ]
  },
  {
   "cell_type": "code",
   "execution_count": 20,
   "metadata": {},
   "outputs": [
    {
     "name": "stdout",
     "output_type": "stream",
     "text": [
      "enter the number in range of 1000:135\n",
      "not a armstrong number\n"
     ]
    }
   ],
   "source": [
    "#Write a Python Program to Check Armstrong Number?\n",
    "n= int(input('enter the number in range of 1000:'))\n",
    "c=int(len(str(n)))\n",
    "sum=0\n",
    "temp=n\n",
    "\n",
    "while temp>0:\n",
    "    digit = temp %10\n",
    "    temp = int(temp/10)\n",
    "    sum = sum +(pow(digit,c))\n",
    "\n",
    "if sum ==n:\n",
    "    print('armstrong number')\n",
    "else:\n",
    "    print('not a armstrong number')\n",
    "    \n"
   ]
  },
  {
   "cell_type": "code",
   "execution_count": 27,
   "metadata": {},
   "outputs": [
    {
     "name": "stdout",
     "output_type": "stream",
     "text": [
      "enter the number in range of below:999999\n",
      "999999\n",
      "armstrong number: 1\n",
      "armstrong number: 2\n",
      "armstrong number: 3\n",
      "armstrong number: 4\n",
      "armstrong number: 5\n",
      "armstrong number: 6\n",
      "armstrong number: 7\n",
      "armstrong number: 8\n",
      "armstrong number: 9\n",
      "armstrong number: 153\n",
      "armstrong number: 370\n",
      "armstrong number: 371\n",
      "armstrong number: 407\n",
      "armstrong number: 1634\n",
      "armstrong number: 8208\n",
      "armstrong number: 9474\n",
      "armstrong number: 54748\n",
      "armstrong number: 92727\n",
      "armstrong number: 93084\n",
      "armstrong number: 548834\n"
     ]
    }
   ],
   "source": [
    "#Write a Python Program to Find Armstrong Number in an Interval?\n",
    "# ./\n",
    "\n",
    "\n",
    "\n",
    "i=1\n",
    "print(n)\n",
    "while i<=n:\n",
    "    sum=0\n",
    "    temp=i\n",
    "    c=int(len(str(i)))\n",
    "    while temp>0:\n",
    "        digit = temp %10\n",
    "        temp = int(temp/10)\n",
    "        sum = sum +(pow(digit,c))\n",
    "\n",
    "    if sum ==i:\n",
    "        print('armstrong number:',sum)\n",
    "    i=i+1"
   ]
  },
  {
   "cell_type": "code",
   "execution_count": 37,
   "metadata": {},
   "outputs": [
    {
     "name": "stdout",
     "output_type": "stream",
     "text": [
      "enter the value of n:4\n",
      "sum of 4 values is 10\n"
     ]
    }
   ],
   "source": [
    "#Write a Python Program to Find the Sum of Natural Numbers?\n",
    "n= int(input('enter the value of n:'))\n",
    "sum =0\n",
    "i=1\n",
    "while i<=n:\n",
    "    sum = sum + i\n",
    "    i = i+1\n",
    "\n",
    "print('sum of {0} values is {1}'.format(n,sum))\n"
   ]
  },
  {
   "cell_type": "code",
   "execution_count": null,
   "metadata": {},
   "outputs": [],
   "source": []
  }
 ],
 "metadata": {
  "kernelspec": {
   "display_name": "Python 3",
   "language": "python",
   "name": "python3"
  },
  "language_info": {
   "codemirror_mode": {
    "name": "ipython",
    "version": 3
   },
   "file_extension": ".py",
   "mimetype": "text/x-python",
   "name": "python",
   "nbconvert_exporter": "python",
   "pygments_lexer": "ipython3",
   "version": "3.7.4"
  }
 },
 "nbformat": 4,
 "nbformat_minor": 2
}
